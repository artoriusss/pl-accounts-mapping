{
 "cells": [
  {
   "cell_type": "markdown",
   "metadata": {},
   "source": [
    "### **import libraries**"
   ]
  },
  {
   "cell_type": "code",
   "execution_count": 69,
   "metadata": {},
   "outputs": [],
   "source": [
    "from openai import OpenAI\n",
    "import os \n",
    "\n",
    "os.environ['OPENAI_API_KEY'] = os.getenv('OPENAI_API_KEY')\n",
    "client = OpenAI()"
   ]
  },
  {
   "cell_type": "code",
   "execution_count": 72,
   "metadata": {},
   "outputs": [],
   "source": [
    "import random\n",
    "import numpy as np\n",
    "import pandas as pd\n",
    "import altair as alt\n",
    "from tqdm import tqdm\n",
    "from fuzzywuzzy import process, fuzz\n",
    "from sklearn.decomposition import PCA\n",
    "from sklearn.metrics.pairwise import cosine_similarity\n",
    "\n",
    "\n",
    "tqdm.pandas()"
   ]
  },
  {
   "cell_type": "code",
   "execution_count": 3,
   "metadata": {},
   "outputs": [],
   "source": [
    "def print_mapping_stats(pairs_dict):\n",
    "    recognized_count = 0\n",
    "    unrecognized_count = 0\n",
    "    recognized_pairs = []\n",
    "    unrecognized_pairs = []\n",
    "\n",
    "    for account, category in pairs_dict.items():\n",
    "        if category == 'Unrecognized account':\n",
    "            unrecognized_pairs.append((account, category))\n",
    "            unrecognized_count += 1\n",
    "        else:\n",
    "            recognized_pairs.append((account, category))\n",
    "            recognized_count += 1\n",
    "\n",
    "    print(f\"Total unique accounts: {len(pairs_dict)}\")\n",
    "    print(f\"Recognized accounts: {recognized_count}\")\n",
    "    print(f\"Unrecognized accounts: {unrecognized_count}\")\n",
    "\n",
    "    random.shuffle(recognized_pairs)\n",
    "    random.shuffle(unrecognized_pairs)\n",
    "\n",
    "    print(\"\\nSample of recognized pairs:\")\n",
    "    for account, category in recognized_pairs[:5]:\n",
    "        print(f'{account} -> {category}')\n",
    "\n",
    "    print(\"\\nSample of unrecognized pairs:\")\n",
    "    for account, category in unrecognized_pairs[:5]:\n",
    "        print(f'{account} -> {category}')"
   ]
  },
  {
   "cell_type": "markdown",
   "metadata": {},
   "source": [
    "### **read the data and merge transactions into one table**"
   ]
  },
  {
   "cell_type": "code",
   "execution_count": 4,
   "metadata": {},
   "outputs": [
    {
     "data": {
      "text/html": [
       "<div>\n",
       "<style scoped>\n",
       "    .dataframe tbody tr th:only-of-type {\n",
       "        vertical-align: middle;\n",
       "    }\n",
       "\n",
       "    .dataframe tbody tr th {\n",
       "        vertical-align: top;\n",
       "    }\n",
       "\n",
       "    .dataframe thead th {\n",
       "        text-align: right;\n",
       "    }\n",
       "</style>\n",
       "<table border=\"1\" class=\"dataframe\">\n",
       "  <thead>\n",
       "    <tr style=\"text-align: right;\">\n",
       "      <th></th>\n",
       "      <th>Date</th>\n",
       "      <th>PL Account</th>\n",
       "      <th>Amount</th>\n",
       "      <th>Description</th>\n",
       "      <th>Counterparty</th>\n",
       "    </tr>\n",
       "  </thead>\n",
       "  <tbody>\n",
       "    <tr>\n",
       "      <th>829</th>\n",
       "      <td>2023-08-08</td>\n",
       "      <td>WISE EUR</td>\n",
       "      <td>780.93</td>\n",
       "      <td>Transaction 830</td>\n",
       "      <td>Counterparty 830</td>\n",
       "    </tr>\n",
       "    <tr>\n",
       "      <th>301</th>\n",
       "      <td>2023-11-12</td>\n",
       "      <td>R&amp;D expenses:R&amp;D team salary tax expenses</td>\n",
       "      <td>-2412.43</td>\n",
       "      <td>Transaction 302</td>\n",
       "      <td>Counterparty 302</td>\n",
       "    </tr>\n",
       "    <tr>\n",
       "      <th>2524</th>\n",
       "      <td>2/10/2023</td>\n",
       "      <td>Shipping and delivery expense (deleted)</td>\n",
       "      <td>1657.75</td>\n",
       "      <td>NaN</td>\n",
       "      <td>NaN</td>\n",
       "    </tr>\n",
       "    <tr>\n",
       "      <th>2204</th>\n",
       "      <td>5/26/2024</td>\n",
       "      <td>Prepaid expenses administrative</td>\n",
       "      <td>-4707.00</td>\n",
       "      <td>NaN</td>\n",
       "      <td>NaN</td>\n",
       "    </tr>\n",
       "    <tr>\n",
       "      <th>1715</th>\n",
       "      <td>12/8/2023</td>\n",
       "      <td>Insurance - Liability (deleted)</td>\n",
       "      <td>300.58</td>\n",
       "      <td>NaN</td>\n",
       "      <td>NaN</td>\n",
       "    </tr>\n",
       "  </tbody>\n",
       "</table>\n",
       "</div>"
      ],
      "text/plain": [
       "            Date                                 PL Account   Amount  \\\n",
       "829   2023-08-08                                   WISE EUR   780.93   \n",
       "301   2023-11-12  R&D expenses:R&D team salary tax expenses -2412.43   \n",
       "2524   2/10/2023    Shipping and delivery expense (deleted)  1657.75   \n",
       "2204   5/26/2024            Prepaid expenses administrative -4707.00   \n",
       "1715   12/8/2023            Insurance - Liability (deleted)   300.58   \n",
       "\n",
       "          Description      Counterparty  \n",
       "829   Transaction 830  Counterparty 830  \n",
       "301   Transaction 302  Counterparty 302  \n",
       "2524              NaN               NaN  \n",
       "2204              NaN               NaN  \n",
       "1715              NaN               NaN  "
      ]
     },
     "execution_count": 4,
     "metadata": {},
     "output_type": "execute_result"
    }
   ],
   "source": [
    "master = pd.read_excel('../data/master-categories.xlsx')\n",
    "trans1 = pd.read_csv('../data/transactions1.csv')\n",
    "trans2 = pd.read_csv('../data/transactions2.csv')\n",
    "\n",
    "transactions = pd.concat([trans1, trans2])\n",
    "\n",
    "transactions.sample(5)"
   ]
  },
  {
   "cell_type": "code",
   "execution_count": 5,
   "metadata": {},
   "outputs": [
    {
     "name": "stdout",
     "output_type": "stream",
     "text": [
      "<class 'pandas.core.frame.DataFrame'>\n",
      "Index: 10000 entries, 0 to 4999\n",
      "Data columns (total 5 columns):\n",
      " #   Column        Non-Null Count  Dtype  \n",
      "---  ------        --------------  -----  \n",
      " 0   Date          10000 non-null  object \n",
      " 1   PL Account    10000 non-null  object \n",
      " 2   Amount        10000 non-null  float64\n",
      " 3   Description   5000 non-null   object \n",
      " 4   Counterparty  5000 non-null   object \n",
      "dtypes: float64(1), object(4)\n",
      "memory usage: 468.8+ KB\n"
     ]
    }
   ],
   "source": [
    "transactions.info()"
   ]
  },
  {
   "cell_type": "markdown",
   "metadata": {},
   "source": [
    "As we can see from above, the `Date` column is not unified in a singe date format. Apart that, one of the transactions table was completely missing the records in `Description` and `Counterparty` columns. So, we'll transform `Date` column so that the records are in the same format and drop the `Description` and `Counterparty` cloumnts completely (it won't be of any use for us).\n",
    "\n",
    "Finally, we'll rename column names to a bit more managable format."
   ]
  },
  {
   "cell_type": "code",
   "execution_count": 6,
   "metadata": {},
   "outputs": [],
   "source": [
    "transactions.drop(['Description', 'Counterparty'], axis=1, inplace=True)\n",
    "transactions['Date'] = pd.to_datetime(transactions['Date'], format='mixed')\n",
    "\n",
    "master.rename(columns={'Master categories': 'master_category'}, inplace=True)\n",
    "transactions.rename(columns={'Date': 'date', 'Amount': 'amount', 'PL Account': 'pl_account'}, inplace=True)"
   ]
  },
  {
   "cell_type": "markdown",
   "metadata": {},
   "source": [
    "Now the dataset looks like this:"
   ]
  },
  {
   "cell_type": "code",
   "execution_count": 7,
   "metadata": {},
   "outputs": [
    {
     "data": {
      "text/html": [
       "<div>\n",
       "<style scoped>\n",
       "    .dataframe tbody tr th:only-of-type {\n",
       "        vertical-align: middle;\n",
       "    }\n",
       "\n",
       "    .dataframe tbody tr th {\n",
       "        vertical-align: top;\n",
       "    }\n",
       "\n",
       "    .dataframe thead th {\n",
       "        text-align: right;\n",
       "    }\n",
       "</style>\n",
       "<table border=\"1\" class=\"dataframe\">\n",
       "  <thead>\n",
       "    <tr style=\"text-align: right;\">\n",
       "      <th></th>\n",
       "      <th>date</th>\n",
       "      <th>pl_account</th>\n",
       "      <th>amount</th>\n",
       "    </tr>\n",
       "  </thead>\n",
       "  <tbody>\n",
       "    <tr>\n",
       "      <th>0</th>\n",
       "      <td>2023-01-04</td>\n",
       "      <td>Professional services</td>\n",
       "      <td>741.87</td>\n",
       "    </tr>\n",
       "    <tr>\n",
       "      <th>1</th>\n",
       "      <td>2024-03-04</td>\n",
       "      <td>Marketing team salary</td>\n",
       "      <td>2673.80</td>\n",
       "    </tr>\n",
       "    <tr>\n",
       "      <th>2</th>\n",
       "      <td>2024-01-16</td>\n",
       "      <td>Direct labour - COS (deleted)</td>\n",
       "      <td>-1578.98</td>\n",
       "    </tr>\n",
       "    <tr>\n",
       "      <th>3</th>\n",
       "      <td>2024-05-20</td>\n",
       "      <td>Uncategorised Asset</td>\n",
       "      <td>2455.15</td>\n",
       "    </tr>\n",
       "    <tr>\n",
       "      <th>4</th>\n",
       "      <td>2024-06-12</td>\n",
       "      <td>Repairs and Maintenance (deleted)</td>\n",
       "      <td>2531.35</td>\n",
       "    </tr>\n",
       "  </tbody>\n",
       "</table>\n",
       "</div>"
      ],
      "text/plain": [
       "        date                         pl_account   amount\n",
       "0 2023-01-04              Professional services   741.87\n",
       "1 2024-03-04              Marketing team salary  2673.80\n",
       "2 2024-01-16      Direct labour - COS (deleted) -1578.98\n",
       "3 2024-05-20                Uncategorised Asset  2455.15\n",
       "4 2024-06-12  Repairs and Maintenance (deleted)  2531.35"
      ]
     },
     "execution_count": 7,
     "metadata": {},
     "output_type": "execute_result"
    }
   ],
   "source": [
    "transactions.head()"
   ]
  },
  {
   "cell_type": "markdown",
   "metadata": {},
   "source": [
    "### **data preprocessing**"
   ]
  },
  {
   "cell_type": "markdown",
   "metadata": {},
   "source": [
    "We can observe that some `pl_account` categories have names like \"Direct labour - COS *(deleted)*\". Our approach involves using language models to capture semantic structures and compare PL Accounts with Master Categories and determine the similarity between these. So, in this context items in PL account names like \"delete\" can confuse a Language model and potentially negatively influence  its performance. We should therefore work with cleaned version without \"(deleted)\" items in PL Accounts. "
   ]
  },
  {
   "cell_type": "code",
   "execution_count": 8,
   "metadata": {},
   "outputs": [],
   "source": [
    "transactions['clean_pl_account'] = transactions['pl_account'].apply(lambda x: x.replace(' (deleted)', ''))"
   ]
  },
  {
   "cell_type": "markdown",
   "metadata": {},
   "source": [
    "As a result, we obtain a table with one more column `clean_pl_account`:"
   ]
  },
  {
   "cell_type": "code",
   "execution_count": 9,
   "metadata": {},
   "outputs": [
    {
     "data": {
      "text/html": [
       "<div>\n",
       "<style scoped>\n",
       "    .dataframe tbody tr th:only-of-type {\n",
       "        vertical-align: middle;\n",
       "    }\n",
       "\n",
       "    .dataframe tbody tr th {\n",
       "        vertical-align: top;\n",
       "    }\n",
       "\n",
       "    .dataframe thead th {\n",
       "        text-align: right;\n",
       "    }\n",
       "</style>\n",
       "<table border=\"1\" class=\"dataframe\">\n",
       "  <thead>\n",
       "    <tr style=\"text-align: right;\">\n",
       "      <th></th>\n",
       "      <th>date</th>\n",
       "      <th>pl_account</th>\n",
       "      <th>amount</th>\n",
       "      <th>clean_pl_account</th>\n",
       "    </tr>\n",
       "  </thead>\n",
       "  <tbody>\n",
       "    <tr>\n",
       "      <th>0</th>\n",
       "      <td>2023-01-04</td>\n",
       "      <td>Professional services</td>\n",
       "      <td>741.87</td>\n",
       "      <td>Professional services</td>\n",
       "    </tr>\n",
       "    <tr>\n",
       "      <th>1</th>\n",
       "      <td>2024-03-04</td>\n",
       "      <td>Marketing team salary</td>\n",
       "      <td>2673.80</td>\n",
       "      <td>Marketing team salary</td>\n",
       "    </tr>\n",
       "    <tr>\n",
       "      <th>2</th>\n",
       "      <td>2024-01-16</td>\n",
       "      <td>Direct labour - COS (deleted)</td>\n",
       "      <td>-1578.98</td>\n",
       "      <td>Direct labour - COS</td>\n",
       "    </tr>\n",
       "    <tr>\n",
       "      <th>3</th>\n",
       "      <td>2024-05-20</td>\n",
       "      <td>Uncategorised Asset</td>\n",
       "      <td>2455.15</td>\n",
       "      <td>Uncategorised Asset</td>\n",
       "    </tr>\n",
       "    <tr>\n",
       "      <th>4</th>\n",
       "      <td>2024-06-12</td>\n",
       "      <td>Repairs and Maintenance (deleted)</td>\n",
       "      <td>2531.35</td>\n",
       "      <td>Repairs and Maintenance</td>\n",
       "    </tr>\n",
       "  </tbody>\n",
       "</table>\n",
       "</div>"
      ],
      "text/plain": [
       "        date                         pl_account   amount  \\\n",
       "0 2023-01-04              Professional services   741.87   \n",
       "1 2024-03-04              Marketing team salary  2673.80   \n",
       "2 2024-01-16      Direct labour - COS (deleted) -1578.98   \n",
       "3 2024-05-20                Uncategorised Asset  2455.15   \n",
       "4 2024-06-12  Repairs and Maintenance (deleted)  2531.35   \n",
       "\n",
       "          clean_pl_account  \n",
       "0    Professional services  \n",
       "1    Marketing team salary  \n",
       "2      Direct labour - COS  \n",
       "3      Uncategorised Asset  \n",
       "4  Repairs and Maintenance  "
      ]
     },
     "execution_count": 9,
     "metadata": {},
     "output_type": "execute_result"
    }
   ],
   "source": [
    "transactions.head()"
   ]
  },
  {
   "cell_type": "code",
   "execution_count": 10,
   "metadata": {},
   "outputs": [],
   "source": [
    "def fuzzy_match(pl_account, master_list, token_threshold=95, partial_threshold=95):\n",
    "    match, score = process.extractOne(pl_account.lower(), master_list, scorer=fuzz.token_sort_ratio)\n",
    "    if score >= token_threshold:\n",
    "        return match\n",
    "    match, score = process.extractOne(pl_account.lower(), master_list, scorer=fuzz.partial_ratio)\n",
    "    if score >= partial_threshold:\n",
    "        intermediate_match, intermediate_score = process.extractOne(pl_account, master_list, scorer=fuzz.token_set_ratio)\n",
    "        if intermediate_score >= token_threshold:\n",
    "            return intermediate_match\n",
    "        return 'Unrecognized account'\n",
    "    \n",
    "    return 'Unrecognized account'"
   ]
  },
  {
   "cell_type": "markdown",
   "metadata": {},
   "source": [
    "### **mapping: 1st stage**"
   ]
  },
  {
   "cell_type": "markdown",
   "metadata": {},
   "source": [
    "If we observe the data, we'll quickly find that there are quite a few 100% matching Master Categories and PL Accounts. Also, there are some straightforward correspondences like 'Financial Modeling' and '1 Financial Modeling'.\n",
    "\n",
    "These can be mapped with one another very easily and we obviously don't need any rocket science to merge these. So, as a first stage, we'll try to map accounts with categories by calculating Levenshtein similarity between these two. This simple method will allow to merge items very efficiently."
   ]
  },
  {
   "cell_type": "code",
   "execution_count": 11,
   "metadata": {},
   "outputs": [
    {
     "name": "stderr",
     "output_type": "stream",
     "text": [
      "Mapping accounts:  19%|█▊        | 45/243 [00:00<00:00, 444.53it/s]"
     ]
    },
    {
     "name": "stderr",
     "output_type": "stream",
     "text": [
      "Mapping accounts: 100%|██████████| 243/243 [00:00<00:00, 446.87it/s]\n"
     ]
    }
   ],
   "source": [
    "master_list = master['master_category'].tolist()\n",
    "unique_clean_accounts = transactions['clean_pl_account'].unique()\n",
    "fuzzy_account_mapping = {account: fuzzy_match(account, master_list) for account in tqdm(unique_clean_accounts, desc='Mapping accounts')}"
   ]
  },
  {
   "cell_type": "code",
   "execution_count": 12,
   "metadata": {},
   "outputs": [
    {
     "name": "stdout",
     "output_type": "stream",
     "text": [
      "Total unique accounts: 243\n",
      "Recognized accounts: 124\n",
      "Unrecognized accounts: 119\n",
      "\n",
      "Sample of recognized pairs:\n",
      "Design -> Design\n",
      "R&D expenses:R&D team salary tax expenses -> R&D team salary\n",
      "Social Tax -> Social Tax\n",
      "Purchase & Sales of intangible assets -> Sales of intangible assets\n",
      "Professional services:Financial consultancy -> Financial consultancy\n",
      "\n",
      "Sample of unrecognized pairs:\n",
      "Stationery and printing -> Unrecognized account\n",
      "Amortisation -> Unrecognized account\n",
      "Professional services:Professional services -> Unrecognized account\n",
      "Prepaid Income -> Unrecognized account\n",
      "Accrued non-current liabilities -> Unrecognized account\n"
     ]
    }
   ],
   "source": [
    "print_mapping_stats(fuzzy_account_mapping)"
   ]
  },
  {
   "cell_type": "markdown",
   "metadata": {},
   "source": [
    "As we can see, we were able to map more than a half of PL accounts with this simple and efficient method!\n",
    "\n",
    "Still, the are plenty of PL accounts left unmapped. These ones will be addressed with a more advanced technique involving a language model. But let's first select only accounts that were not recognised up to this point for further analysis."
   ]
  },
  {
   "cell_type": "code",
   "execution_count": 13,
   "metadata": {},
   "outputs": [],
   "source": [
    "transactions['master_category'] = transactions['clean_pl_account'].map(fuzzy_account_mapping)\n",
    "rec_trans = transactions[transactions['master_category'] != 'Unrecognized account']\n",
    "unrec_trans = transactions[transactions['master_category'] == 'Unrecognized account']\n",
    "\n",
    "unique_unrec_clean_accs = unrec_trans['clean_pl_account'].unique()"
   ]
  },
  {
   "cell_type": "markdown",
   "metadata": {},
   "source": [
    "### **obtaining embeddings**"
   ]
  },
  {
   "cell_type": "markdown",
   "metadata": {},
   "source": [
    "An embedding can be thought of here as a vector representation of a text. Such vectors are simply long arrays of numbers that capture various semantic features of texts. When working with language models, we often need embeddings, becasue computers can only make sense of text in a numeric, not symbolic form. \n",
    "\n",
    "There are exist many different algorithms to convert a text into a vector of numbers. One of the currently most advanced embedding techniques were developed by Open AI. Thus, we'll use their embedding model to represent or categories as arrays of numbers. \n",
    "\n",
    "As we've said, we'll only compute embeddings for items that **were not** recognised at the previous stage."
   ]
  },
  {
   "cell_type": "code",
   "execution_count": 14,
   "metadata": {},
   "outputs": [],
   "source": [
    "def get_embedding(open_ai_client, text):\n",
    "    '''Get the embedding of a text using OpenAI API'''\n",
    "    response = open_ai_client.embeddings.create(input=text, model=\"text-embedding-3-small\").data[0].embedding\n",
    "    return np.array(response)"
   ]
  },
  {
   "cell_type": "code",
   "execution_count": 15,
   "metadata": {},
   "outputs": [
    {
     "name": "stderr",
     "output_type": "stream",
     "text": [
      "Generating master embeddings: 100%|██████████| 88/88 [00:27<00:00,  3.19it/s]\n",
      "Generating embeddings for unrecognized accounts: 100%|██████████| 119/119 [00:38<00:00,  3.13it/s]\n"
     ]
    }
   ],
   "source": [
    "master_embeddings = np.array([get_embedding(client, cat) for cat in tqdm(master_list, desc='Generating master embeddings')])\n",
    "unrec_embeddings = np.array([get_embedding(client, account) for account in tqdm(unique_unrec_clean_accs, desc='Generating embeddings for unrecognized accounts')])"
   ]
  },
  {
   "cell_type": "code",
   "execution_count": 78,
   "metadata": {},
   "outputs": [],
   "source": [
    "pca = PCA(n_components=0.7) \n",
    "reduced_master_emb = pca.fit_transform(master_embeddings)\n",
    "reduced_unrec_emb = pca.transform(unrec_embeddings)"
   ]
  },
  {
   "cell_type": "markdown",
   "metadata": {},
   "source": [
    "### **determining similarity**"
   ]
  },
  {
   "cell_type": "markdown",
   "metadata": {},
   "source": [
    "After we obtained embeddings, the only left step is to calculate and match the closest ones. As we said above, embeddings are basically vectors. We can therefore use various measures that calculate the distance between embeddings. \n",
    "\n",
    "The principle is quite simple: the shorter the distance, the more likely it is that the two embedded texts share some semantic properties. These ones will be mapped to one another. However, if for one embedded PL account there is Master category embedding that is close enough, then we'll label this PL account as unrecognized."
   ]
  },
  {
   "cell_type": "code",
   "execution_count": 17,
   "metadata": {},
   "outputs": [],
   "source": [
    "def find_best_match_embedding(embedding, master_list, master_embeddings, threshold=0.6):\n",
    "    similarities = cosine_similarity([embedding], master_embeddings)[0]\n",
    "    max_similarity = similarities.max()\n",
    "    if max_similarity >= threshold:\n",
    "        best_match_index = similarities.argmax()\n",
    "        return master_list[best_match_index]\n",
    "    return 'Unrecognized account'"
   ]
  },
  {
   "cell_type": "code",
   "execution_count": 81,
   "metadata": {},
   "outputs": [],
   "source": [
    "unrec_acc_map = {account: find_best_match_embedding(embedding, master_list, reduced_master_emb, threshold=0.7)\n",
    "                                for account, embedding in zip(unique_unrec_clean_accs, reduced_unrec_emb)}\n",
    "\n",
    "unrec_trans.loc[:, 'master_category'] = unrec_trans['clean_pl_account'].map(unrec_acc_map)"
   ]
  },
  {
   "cell_type": "markdown",
   "metadata": {},
   "source": [
    "Now, let's see how well our model performed."
   ]
  },
  {
   "cell_type": "code",
   "execution_count": 83,
   "metadata": {},
   "outputs": [
    {
     "name": "stdout",
     "output_type": "stream",
     "text": [
      "Total unique accounts: 119\n",
      "Recognized accounts: 59\n",
      "Unrecognized accounts: 60\n",
      "\n",
      "Sample of recognized pairs:\n",
      "Current portion of long-term debt -> Proceeds from debt\n",
      "Marketing and sales -> Digital Marketing\n",
      "Dividend disbursed -> Dividends paid\n",
      "Project's direct cost:Software expenses -> FP&A team software expenses\n",
      "Income tax payable -> Federal Taxes\n",
      "\n",
      "Sample of unrecognized pairs:\n",
      "Amortisation / Depreciation:Depreciation -> Unrecognized account\n",
      "Insurance - General -> Unrecognized account\n",
      "CHASE SAV *2868 -> Unrecognized account\n",
      "Amortisation / Depreciation -> Unrecognized account\n",
      "Stripe (required for Synder) -> Unrecognized account\n"
     ]
    }
   ],
   "source": [
    "print_mapping_stats(unrec_acc_map)"
   ]
  },
  {
   "cell_type": "markdown",
   "metadata": {},
   "source": [
    "We can note that now our algorithm was able to map much more complex relationships between PL accounts and Master categories. For example, it recognised that Professional services may belong to Consulting category and that Interest expense may be related to Interest Loss."
   ]
  },
  {
   "cell_type": "code",
   "execution_count": 84,
   "metadata": {},
   "outputs": [],
   "source": [
    "final_rec_trans = pd.concat([rec_trans, unrec_trans])\n",
    "unmapped_trans = final_rec_trans[final_rec_trans['master_category'] == 'Unrecognized account']"
   ]
  },
  {
   "cell_type": "code",
   "execution_count": 85,
   "metadata": {},
   "outputs": [
    {
     "data": {
      "text/html": [
       "<div>\n",
       "<style scoped>\n",
       "    .dataframe tbody tr th:only-of-type {\n",
       "        vertical-align: middle;\n",
       "    }\n",
       "\n",
       "    .dataframe tbody tr th {\n",
       "        vertical-align: top;\n",
       "    }\n",
       "\n",
       "    .dataframe thead th {\n",
       "        text-align: right;\n",
       "    }\n",
       "</style>\n",
       "<table border=\"1\" class=\"dataframe\">\n",
       "  <thead>\n",
       "    <tr style=\"text-align: right;\">\n",
       "      <th></th>\n",
       "      <th>date</th>\n",
       "      <th>pl_account</th>\n",
       "      <th>amount</th>\n",
       "      <th>master_category</th>\n",
       "    </tr>\n",
       "  </thead>\n",
       "  <tbody>\n",
       "    <tr>\n",
       "      <th>4690</th>\n",
       "      <td>2023-09-19</td>\n",
       "      <td>Office expenses:Other office expenses</td>\n",
       "      <td>903.87</td>\n",
       "      <td>Other office expenses</td>\n",
       "    </tr>\n",
       "    <tr>\n",
       "      <th>514</th>\n",
       "      <td>2024-05-15</td>\n",
       "      <td>Staff expenses:Corporate events</td>\n",
       "      <td>4587.98</td>\n",
       "      <td>Corporate events</td>\n",
       "    </tr>\n",
       "    <tr>\n",
       "      <th>4693</th>\n",
       "      <td>2023-10-24</td>\n",
       "      <td>Payroll Clearing</td>\n",
       "      <td>-4998.17</td>\n",
       "      <td>Unrecognized account</td>\n",
       "    </tr>\n",
       "    <tr>\n",
       "      <th>4347</th>\n",
       "      <td>2023-06-19</td>\n",
       "      <td>Loans to Others</td>\n",
       "      <td>1188.69</td>\n",
       "      <td>Receiving of loans</td>\n",
       "    </tr>\n",
       "    <tr>\n",
       "      <th>1034</th>\n",
       "      <td>2023-11-12</td>\n",
       "      <td>Common stock</td>\n",
       "      <td>1955.43</td>\n",
       "      <td>Unrecognized account</td>\n",
       "    </tr>\n",
       "    <tr>\n",
       "      <th>3270</th>\n",
       "      <td>2023-10-15</td>\n",
       "      <td>Short-Term Investments</td>\n",
       "      <td>3489.67</td>\n",
       "      <td>Unrecognized account</td>\n",
       "    </tr>\n",
       "    <tr>\n",
       "      <th>1067</th>\n",
       "      <td>2024-04-08</td>\n",
       "      <td>Supplies (deleted)</td>\n",
       "      <td>897.16</td>\n",
       "      <td>Unrecognized account</td>\n",
       "    </tr>\n",
       "    <tr>\n",
       "      <th>4184</th>\n",
       "      <td>2023-06-03</td>\n",
       "      <td>Unrealised loss on securities, net of tax (del...</td>\n",
       "      <td>1794.54</td>\n",
       "      <td>Foreign Exchange Loss</td>\n",
       "    </tr>\n",
       "    <tr>\n",
       "      <th>1806</th>\n",
       "      <td>2024-04-17</td>\n",
       "      <td>Grants and other financial income</td>\n",
       "      <td>-2768.91</td>\n",
       "      <td>Grants and other non-operating  income</td>\n",
       "    </tr>\n",
       "    <tr>\n",
       "      <th>3711</th>\n",
       "      <td>2023-06-17</td>\n",
       "      <td>Less</td>\n",
       "      <td>2812.03</td>\n",
       "      <td>Less: Discount</td>\n",
       "    </tr>\n",
       "    <tr>\n",
       "      <th>1463</th>\n",
       "      <td>2023-04-12</td>\n",
       "      <td>Long-Term Investments</td>\n",
       "      <td>-2627.07</td>\n",
       "      <td>Unrecognized account</td>\n",
       "    </tr>\n",
       "    <tr>\n",
       "      <th>1190</th>\n",
       "      <td>2024-05-17</td>\n",
       "      <td>Travelling expenses</td>\n",
       "      <td>-1407.21</td>\n",
       "      <td>Offline events + travelling expenses</td>\n",
       "    </tr>\n",
       "    <tr>\n",
       "      <th>2338</th>\n",
       "      <td>2023-11-30</td>\n",
       "      <td>State Taxes</td>\n",
       "      <td>-2524.84</td>\n",
       "      <td>State Taxes</td>\n",
       "    </tr>\n",
       "    <tr>\n",
       "      <th>1861</th>\n",
       "      <td>2023-02-13</td>\n",
       "      <td>Other Expenses:Other general and administrativ...</td>\n",
       "      <td>-3894.19</td>\n",
       "      <td>Other general and administrative expenses</td>\n",
       "    </tr>\n",
       "    <tr>\n",
       "      <th>2714</th>\n",
       "      <td>2023-09-24</td>\n",
       "      <td>Professional services:Contractors</td>\n",
       "      <td>745.70</td>\n",
       "      <td>Other subcontractors</td>\n",
       "    </tr>\n",
       "  </tbody>\n",
       "</table>\n",
       "</div>"
      ],
      "text/plain": [
       "           date                                         pl_account   amount  \\\n",
       "4690 2023-09-19              Office expenses:Other office expenses   903.87   \n",
       "514  2024-05-15                    Staff expenses:Corporate events  4587.98   \n",
       "4693 2023-10-24                                   Payroll Clearing -4998.17   \n",
       "4347 2023-06-19                                    Loans to Others  1188.69   \n",
       "1034 2023-11-12                                       Common stock  1955.43   \n",
       "3270 2023-10-15                             Short-Term Investments  3489.67   \n",
       "1067 2024-04-08                                 Supplies (deleted)   897.16   \n",
       "4184 2023-06-03  Unrealised loss on securities, net of tax (del...  1794.54   \n",
       "1806 2024-04-17                  Grants and other financial income -2768.91   \n",
       "3711 2023-06-17                                               Less  2812.03   \n",
       "1463 2023-04-12                              Long-Term Investments -2627.07   \n",
       "1190 2024-05-17                                Travelling expenses -1407.21   \n",
       "2338 2023-11-30                                        State Taxes -2524.84   \n",
       "1861 2023-02-13  Other Expenses:Other general and administrativ... -3894.19   \n",
       "2714 2023-09-24                  Professional services:Contractors   745.70   \n",
       "\n",
       "                                master_category  \n",
       "4690                      Other office expenses  \n",
       "514                            Corporate events  \n",
       "4693                       Unrecognized account  \n",
       "4347                         Receiving of loans  \n",
       "1034                       Unrecognized account  \n",
       "3270                       Unrecognized account  \n",
       "1067                       Unrecognized account  \n",
       "4184                      Foreign Exchange Loss  \n",
       "1806     Grants and other non-operating  income  \n",
       "3711                             Less: Discount  \n",
       "1463                       Unrecognized account  \n",
       "1190       Offline events + travelling expenses  \n",
       "2338                                State Taxes  \n",
       "1861  Other general and administrative expenses  \n",
       "2714                       Other subcontractors  "
      ]
     },
     "execution_count": 85,
     "metadata": {},
     "output_type": "execute_result"
    }
   ],
   "source": [
    "final_rec_trans.drop(['clean_pl_account'], axis=1, inplace=True)\n",
    "final_rec_trans.sample(15)"
   ]
  },
  {
   "cell_type": "code",
   "execution_count": 113,
   "metadata": {},
   "outputs": [
    {
     "name": "stdout",
     "output_type": "stream",
     "text": [
      "Number of unique recognised PL accounts: 185\n",
      "Number of unique unrecognized PL accounts: 60\n"
     ]
    }
   ],
   "source": [
    "total_accounts = final_rec_trans['pl_account'].nunique()\n",
    "recognized_df = final_rec_trans[final_rec_trans['master_category'] != 'Unrecognized account']\n",
    "rec_accs = recognized_df['pl_account'].nunique()\n",
    "unrec_accs = total_accounts - rec_accs\n",
    "\n",
    "unmapped_num, mapped_num = len(unmapped_trans), len(final_rec_trans) - len(unmapped_trans)\n",
    "print(f\"Number of unique recognised PL accounts: {rec_accs}\\nNumber of unique unrecognized PL accounts: {unrec_accs}\")"
   ]
  },
  {
   "cell_type": "code",
   "execution_count": 110,
   "metadata": {},
   "outputs": [
    {
     "data": {
      "text/html": [
       "\n",
       "<style>\n",
       "  #altair-viz-76d168019db6488a8df8edac31e1e424.vega-embed {\n",
       "    width: 100%;\n",
       "    display: flex;\n",
       "  }\n",
       "\n",
       "  #altair-viz-76d168019db6488a8df8edac31e1e424.vega-embed details,\n",
       "  #altair-viz-76d168019db6488a8df8edac31e1e424.vega-embed details summary {\n",
       "    position: relative;\n",
       "  }\n",
       "</style>\n",
       "<div id=\"altair-viz-76d168019db6488a8df8edac31e1e424\"></div>\n",
       "<script type=\"text/javascript\">\n",
       "  var VEGA_DEBUG = (typeof VEGA_DEBUG == \"undefined\") ? {} : VEGA_DEBUG;\n",
       "  (function(spec, embedOpt){\n",
       "    let outputDiv = document.currentScript.previousElementSibling;\n",
       "    if (outputDiv.id !== \"altair-viz-76d168019db6488a8df8edac31e1e424\") {\n",
       "      outputDiv = document.getElementById(\"altair-viz-76d168019db6488a8df8edac31e1e424\");\n",
       "    }\n",
       "    const paths = {\n",
       "      \"vega\": \"https://cdn.jsdelivr.net/npm/vega@5?noext\",\n",
       "      \"vega-lib\": \"https://cdn.jsdelivr.net/npm/vega-lib?noext\",\n",
       "      \"vega-lite\": \"https://cdn.jsdelivr.net/npm/vega-lite@5.17.0?noext\",\n",
       "      \"vega-embed\": \"https://cdn.jsdelivr.net/npm/vega-embed@6?noext\",\n",
       "    };\n",
       "\n",
       "    function maybeLoadScript(lib, version) {\n",
       "      var key = `${lib.replace(\"-\", \"\")}_version`;\n",
       "      return (VEGA_DEBUG[key] == version) ?\n",
       "        Promise.resolve(paths[lib]) :\n",
       "        new Promise(function(resolve, reject) {\n",
       "          var s = document.createElement('script');\n",
       "          document.getElementsByTagName(\"head\")[0].appendChild(s);\n",
       "          s.async = true;\n",
       "          s.onload = () => {\n",
       "            VEGA_DEBUG[key] = version;\n",
       "            return resolve(paths[lib]);\n",
       "          };\n",
       "          s.onerror = () => reject(`Error loading script: ${paths[lib]}`);\n",
       "          s.src = paths[lib];\n",
       "        });\n",
       "    }\n",
       "\n",
       "    function showError(err) {\n",
       "      outputDiv.innerHTML = `<div class=\"error\" style=\"color:red;\">${err}</div>`;\n",
       "      throw err;\n",
       "    }\n",
       "\n",
       "    function displayChart(vegaEmbed) {\n",
       "      vegaEmbed(outputDiv, spec, embedOpt)\n",
       "        .catch(err => showError(`Javascript Error: ${err.message}<br>This usually means there's a typo in your chart specification. See the javascript console for the full traceback.`));\n",
       "    }\n",
       "\n",
       "    if(typeof define === \"function\" && define.amd) {\n",
       "      requirejs.config({paths});\n",
       "      require([\"vega-embed\"], displayChart, err => showError(`Error loading script: ${err.message}`));\n",
       "    } else {\n",
       "      maybeLoadScript(\"vega\", \"5\")\n",
       "        .then(() => maybeLoadScript(\"vega-lite\", \"5.17.0\"))\n",
       "        .then(() => maybeLoadScript(\"vega-embed\", \"6\"))\n",
       "        .catch(showError)\n",
       "        .then(() => displayChart(vegaEmbed));\n",
       "    }\n",
       "  })({\"config\": {\"view\": {\"continuousWidth\": 300, \"continuousHeight\": 300}}, \"data\": {\"name\": \"data-a64a94ec054b583853c2581148000133\"}, \"mark\": {\"type\": \"arc\", \"innerRadius\": 70}, \"encoding\": {\"color\": {\"field\": \"Records\", \"type\": \"nominal\"}, \"theta\": {\"field\": \"count\", \"type\": \"quantitative\"}}, \"height\": 300, \"width\": 300, \"$schema\": \"https://vega.github.io/schema/vega-lite/v5.17.0.json\", \"datasets\": {\"data-a64a94ec054b583853c2581148000133\": [{\"Records\": \"Mapped\", \"count\": 7508}, {\"Records\": \"Unmapped\", \"count\": 2492}]}}, {\"mode\": \"vega-lite\"});\n",
       "</script>"
      ],
      "text/plain": [
       "alt.Chart(...)"
      ]
     },
     "execution_count": 110,
     "metadata": {},
     "output_type": "execute_result"
    }
   ],
   "source": [
    "df = pd.DataFrame({'Records': ['Mapped', 'Unmapped'], 'count': [mapped_num, unmapped_num]})\n",
    "alt.Chart(df).mark_arc(innerRadius=70).encode(\n",
    "    color='Records',\n",
    "    theta='count:Q'\n",
    ").properties(\n",
    "    width=300,\n",
    "    height=300\n",
    ")"
   ]
  },
  {
   "cell_type": "code",
   "execution_count": 114,
   "metadata": {},
   "outputs": [
    {
     "data": {
      "text/plain": [
       "(2492, 7508)"
      ]
     },
     "execution_count": 114,
     "metadata": {},
     "output_type": "execute_result"
    }
   ],
   "source": [
    "unmapped_num, mapped_num"
   ]
  },
  {
   "cell_type": "markdown",
   "metadata": {},
   "source": [
    "Thus, our procedure managed to to recognise 7508 out of 10k records (185 out of 245 unique types of PL accounts)."
   ]
  }
 ],
 "metadata": {
  "kernelspec": {
   "display_name": ".venv",
   "language": "python",
   "name": "python3"
  },
  "language_info": {
   "codemirror_mode": {
    "name": "ipython",
    "version": 3
   },
   "file_extension": ".py",
   "mimetype": "text/x-python",
   "name": "python",
   "nbconvert_exporter": "python",
   "pygments_lexer": "ipython3",
   "version": "3.10.14"
  },
  "orig_nbformat": 4
 },
 "nbformat": 4,
 "nbformat_minor": 2
}
